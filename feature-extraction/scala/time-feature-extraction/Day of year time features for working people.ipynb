{
 "cells": [
  {
   "cell_type": "markdown",
   "metadata": {},
   "source": [
    "# Yearly cadence of an employee\n",
    "\n",
    "The majority of the work force, specially office workers, follow the same rhythm of life. They have a weekend of 1 or 2 days, they take holidays off, and other than that they follow the schedule of their job. I probably didn't do a good job explaining this, but you get it. The machines don't get it though! In this notebook, I show an example of how to explain this to a machine by extracting features that will help it find such patterns in the data."
   ]
  },
  {
   "cell_type": "markdown",
   "metadata": {},
   "source": [
    "## Explainning the day of year to a machine\n",
    "\n",
    "In statistics litrature, features are called explanatory variables. I like this name because it can be understood in two ways (and I like puns):\n",
    "\n",
    "- The dry understand is that those variables explain the target or response variable; the LHS of the equation that explain the outcome on the RHS.\n",
    "- The pun is that those variables explain some concepts to the machine, and by deciding to include them during feature engineering we are telling it to explore the importance of this concept.\n",
    "\n",
    "Let's adopt the second understanding of explanatory variables, and let's see how to explain to the machine the concept of the yearly cadence of an employee. One might think of features such as `IsWeekend` which will be true if the day of week is Saturday or Sunday, and `IsThanksGiving` which will be true for American Thanks Giving day. This is OK if the user base is strictly in the USA. However, I think that there is too much of the programmer's biases encoded into these features. I prefer to engineer features that do not hard code my biases, but allow the machine to find the biases in the training data. This is another play on words, and not an exactly accurate use of the word bias as in Bias vs Variance -- however, I think it is no blatently wrong either, even though a more accurate word to use in this case is priors. Anyway, back to our example. Below is an enumeration of the explanatory variables I will use:"
   ]
  },
  {
   "cell_type": "code",
   "execution_count": 4,
   "metadata": {
    "collapsed": false
   },
   "outputs": [
    {
     "data": {
      "text/plain": [
       "Name: Compile Error\n",
       "Message: <console>:2: error: ';' expected but ',' found.\n",
       "           IsMonday(0),\n",
       "                      ^\n",
       "StackTrace: "
      ]
     },
     "execution_count": 4,
     "metadata": {},
     "output_type": "execute_result"
    }
   ],
   "source": [
    "public enum DayOfYearExplanatoryVariables {\n",
    "    IsMonday(0),\n",
    "    IsTueday(1),\n",
    "    IsWednesday(2),\n",
    "    IsThursday(3),\n",
    "    IsFriday(4),\n",
    "    IsSaturday(5),\n",
    "    IsSunday(6),\n",
    "    IsJan(7),\n",
    "    IsFeb(8),\n",
    "    IsMar(9),\n",
    "    IsApr(10),\n",
    "    IsMay(11),\n",
    "    IsJun(12),\n",
    "    IsJul(13),\n",
    "    IsAug(14),\n",
    "    IsSep(15),\n",
    "    IsOct(16),\n",
    "    IsNov(17),\n",
    "    IsDec(18),\n",
    "    Year(19),\n",
    "    IsHoliday(20),\n",
    "    IsHolidayEve(21),\n",
    "    IsWorkDay(22),\n",
    "    IsDay01To10(23),\n",
    "    IsDay11To20(24),\n",
    "    IsDay21To31(25)\n",
    "}"
   ]
  },
  {
   "cell_type": "markdown",
   "metadata": {},
   "source": [
    "## Dependencies\n",
    "\n",
    "The code depends on Joda Time and Jolly Day:\n",
    "\n",
    "- Joda Time is the de facto time library before Java 8. \n",
    "- Jolly Day is a library to detect holidays. It worked well for North American holidays, and it should work for other countries as well! Version 0.4.9 is the latest version that does not use Java 8 features, so I am using it to avoid dealing with issues of running Scala on Java 8. \n",
    "\n",
    "PS: Jolly Day pulls in a version of Joda Time."
   ]
  },
  {
   "cell_type": "code",
   "execution_count": 5,
   "metadata": {
    "collapsed": false
   },
   "outputs": [
    {
     "name": "stdout",
     "output_type": "stream",
     "text": [
      "Marking de.jollyday:jollyday:0.4.9 for download\n",
      "Preparing to fetch from:\n",
      "-> file:/var/folders/pd/3vnhbdwj3wx1nm58z5lnyyqm0000gn/T/toree_add_deps8827194317915505009/\n",
      "-> https://repo1.maven.org/maven2\n",
      "=> https://repo1.maven.org/maven2/de/jollyday/jollyday/0.4.9/jollyday-0.4.9.pom: Found at /var/folders/pd/3vnhbdwj3wx1nm58z5lnyyqm0000gn/T/toree_add_deps8827194317915505009/https/repo1.maven.org/maven2/de/jollyday/jollyday/0.4.9/jollyday-0.4.9.pom\n",
      "=> https://repo1.maven.org/maven2/de/jollyday/jollyday/0.4.9/jollyday-0.4.9.pom.sha1: Found at /var/folders/pd/3vnhbdwj3wx1nm58z5lnyyqm0000gn/T/toree_add_deps8827194317915505009/https/repo1.maven.org/maven2/de/jollyday/jollyday/0.4.9/jollyday-0.4.9.pom.sha1\n",
      "=> https://repo1.maven.org/maven2/de/jollyday/jollyday/0.4.9/jollyday-0.4.9.pom.sha1: Found at /var/folders/pd/3vnhbdwj3wx1nm58z5lnyyqm0000gn/T/toree_add_deps8827194317915505009/https/repo1.maven.org/maven2/de/jollyday/jollyday/0.4.9/jollyday-0.4.9.pom.sha1\n",
      "=> https://repo1.maven.org/maven2/de/jollyday/jollyday/0.4.9/jollyday-0.4.9.pom: Found at /var/folders/pd/3vnhbdwj3wx1nm58z5lnyyqm0000gn/T/toree_add_deps8827194317915505009/https/repo1.maven.org/maven2/de/jollyday/jollyday/0.4.9/jollyday-0.4.9.pom\n",
      "=> https://repo1.maven.org/maven2/joda-time/joda-time/2.4/joda-time-2.4.pom.sha1: Found at /var/folders/pd/3vnhbdwj3wx1nm58z5lnyyqm0000gn/T/toree_add_deps8827194317915505009/https/repo1.maven.org/maven2/joda-time/joda-time/2.4/joda-time-2.4.pom.sha1\n",
      "=> https://repo1.maven.org/maven2/javax/xml/bind/jaxb-api/2.2.7/jaxb-api-2.2.7.pom.sha1: Found at /var/folders/pd/3vnhbdwj3wx1nm58z5lnyyqm0000gn/T/toree_add_deps8827194317915505009/https/repo1.maven.org/maven2/javax/xml/bind/jaxb-api/2.2.7/jaxb-api-2.2.7.pom.sha1\n",
      "=> https://repo1.maven.org/maven2/javax/xml/bind/jaxb-api/2.2.7/jaxb-api-2.2.7.pom: Found at /var/folders/pd/3vnhbdwj3wx1nm58z5lnyyqm0000gn/T/toree_add_deps8827194317915505009/https/repo1.maven.org/maven2/javax/xml/bind/jaxb-api/2.2.7/jaxb-api-2.2.7.pom\n",
      "=> https://repo1.maven.org/maven2/joda-time/joda-time/2.4/joda-time-2.4.pom: Found at /var/folders/pd/3vnhbdwj3wx1nm58z5lnyyqm0000gn/T/toree_add_deps8827194317915505009/https/repo1.maven.org/maven2/joda-time/joda-time/2.4/joda-time-2.4.pom\n",
      "=> https://repo1.maven.org/maven2/joda-time/joda-time/2.4/joda-time-2.4.pom.sha1: Found at /var/folders/pd/3vnhbdwj3wx1nm58z5lnyyqm0000gn/T/toree_add_deps8827194317915505009/https/repo1.maven.org/maven2/joda-time/joda-time/2.4/joda-time-2.4.pom.sha1\n",
      "=> https://repo1.maven.org/maven2/javax/xml/bind/jaxb-api/2.2.7/jaxb-api-2.2.7.pom: Found at /var/folders/pd/3vnhbdwj3wx1nm58z5lnyyqm0000gn/T/toree_add_deps8827194317915505009/https/repo1.maven.org/maven2/javax/xml/bind/jaxb-api/2.2.7/jaxb-api-2.2.7.pom\n",
      "=> https://repo1.maven.org/maven2/javax/xml/bind/jaxb-api/2.2.7/jaxb-api-2.2.7.pom.sha1: Found at /var/folders/pd/3vnhbdwj3wx1nm58z5lnyyqm0000gn/T/toree_add_deps8827194317915505009/https/repo1.maven.org/maven2/javax/xml/bind/jaxb-api/2.2.7/jaxb-api-2.2.7.pom.sha1\n",
      "=> https://repo1.maven.org/maven2/joda-time/joda-time/2.4/joda-time-2.4.pom: Found at /var/folders/pd/3vnhbdwj3wx1nm58z5lnyyqm0000gn/T/toree_add_deps8827194317915505009/https/repo1.maven.org/maven2/joda-time/joda-time/2.4/joda-time-2.4.pom\n",
      "=> https://repo1.maven.org/maven2/net/java/jvnet-parent/1/jvnet-parent-1.pom: Found at /var/folders/pd/3vnhbdwj3wx1nm58z5lnyyqm0000gn/T/toree_add_deps8827194317915505009/https/repo1.maven.org/maven2/net/java/jvnet-parent/1/jvnet-parent-1.pom\n",
      "=> https://repo1.maven.org/maven2/net/java/jvnet-parent/1/jvnet-parent-1.pom: Found at /var/folders/pd/3vnhbdwj3wx1nm58z5lnyyqm0000gn/T/toree_add_deps8827194317915505009/https/repo1.maven.org/maven2/net/java/jvnet-parent/1/jvnet-parent-1.pom\n",
      "=> https://repo1.maven.org/maven2/net/java/jvnet-parent/1/jvnet-parent-1.pom.sha1: Found at /var/folders/pd/3vnhbdwj3wx1nm58z5lnyyqm0000gn/T/toree_add_deps8827194317915505009/https/repo1.maven.org/maven2/net/java/jvnet-parent/1/jvnet-parent-1.pom.sha1\n",
      "=> https://repo1.maven.org/maven2/net/java/jvnet-parent/1/jvnet-parent-1.pom.sha1: Found at /var/folders/pd/3vnhbdwj3wx1nm58z5lnyyqm0000gn/T/toree_add_deps8827194317915505009/https/repo1.maven.org/maven2/net/java/jvnet-parent/1/jvnet-parent-1.pom.sha1\n",
      "=> https://repo1.maven.org/maven2/javax/xml/bind/jaxb-api/2.2.7/jaxb-api-2.2.7.jar: Found at /var/folders/pd/3vnhbdwj3wx1nm58z5lnyyqm0000gn/T/toree_add_deps8827194317915505009/https/repo1.maven.org/maven2/javax/xml/bind/jaxb-api/2.2.7/jaxb-api-2.2.7.jar\n",
      "=> https://repo1.maven.org/maven2/javax/xml/bind/jaxb-api/2.2.7/jaxb-api-2.2.7.jar: Found at /var/folders/pd/3vnhbdwj3wx1nm58z5lnyyqm0000gn/T/toree_add_deps8827194317915505009/https/repo1.maven.org/maven2/javax/xml/bind/jaxb-api/2.2.7/jaxb-api-2.2.7.jar\n",
      "=> https://repo1.maven.org/maven2/de/jollyday/jollyday/0.4.9/jollyday-0.4.9.jar: Found at /var/folders/pd/3vnhbdwj3wx1nm58z5lnyyqm0000gn/T/toree_add_deps8827194317915505009/https/repo1.maven.org/maven2/de/jollyday/jollyday/0.4.9/jollyday-0.4.9.jar\n",
      "=> https://repo1.maven.org/maven2/joda-time/joda-time/2.4/joda-time-2.4.jar: Found at /var/folders/pd/3vnhbdwj3wx1nm58z5lnyyqm0000gn/T/toree_add_deps8827194317915505009/https/repo1.maven.org/maven2/joda-time/joda-time/2.4/joda-time-2.4.jar\n",
      "=> https://repo1.maven.org/maven2/de/jollyday/jollyday/0.4.9/jollyday-0.4.9.jar: Found at /var/folders/pd/3vnhbdwj3wx1nm58z5lnyyqm0000gn/T/toree_add_deps8827194317915505009/https/repo1.maven.org/maven2/de/jollyday/jollyday/0.4.9/jollyday-0.4.9.jar\n",
      "=> https://repo1.maven.org/maven2/javax/xml/bind/jaxb-api/2.2.7/jaxb-api-2.2.7.jar.sha1: Found at /var/folders/pd/3vnhbdwj3wx1nm58z5lnyyqm0000gn/T/toree_add_deps8827194317915505009/https/repo1.maven.org/maven2/javax/xml/bind/jaxb-api/2.2.7/jaxb-api-2.2.7.jar.sha1\n",
      "=> https://repo1.maven.org/maven2/joda-time/joda-time/2.4/joda-time-2.4.jar: Found at /var/folders/pd/3vnhbdwj3wx1nm58z5lnyyqm0000gn/T/toree_add_deps8827194317915505009/https/repo1.maven.org/maven2/joda-time/joda-time/2.4/joda-time-2.4.jar\n",
      "=> https://repo1.maven.org/maven2/de/jollyday/jollyday/0.4.9/jollyday-0.4.9.jar.sha1: Found at /var/folders/pd/3vnhbdwj3wx1nm58z5lnyyqm0000gn/T/toree_add_deps8827194317915505009/https/repo1.maven.org/maven2/de/jollyday/jollyday/0.4.9/jollyday-0.4.9.jar.sha1\n",
      "=> https://repo1.maven.org/maven2/javax/xml/bind/jaxb-api/2.2.7/jaxb-api-2.2.7.jar.sha1: Found at /var/folders/pd/3vnhbdwj3wx1nm58z5lnyyqm0000gn/T/toree_add_deps8827194317915505009/https/repo1.maven.org/maven2/javax/xml/bind/jaxb-api/2.2.7/jaxb-api-2.2.7.jar.sha1\n",
      "=> https://repo1.maven.org/maven2/joda-time/joda-time/2.4/joda-time-2.4.jar.sha1: Found at /var/folders/pd/3vnhbdwj3wx1nm58z5lnyyqm0000gn/T/toree_add_deps8827194317915505009/https/repo1.maven.org/maven2/joda-time/joda-time/2.4/joda-time-2.4.jar.sha1\n",
      "=> https://repo1.maven.org/maven2/de/jollyday/jollyday/0.4.9/jollyday-0.4.9.jar.sha1: Found at /var/folders/pd/3vnhbdwj3wx1nm58z5lnyyqm0000gn/T/toree_add_deps8827194317915505009/https/repo1.maven.org/maven2/de/jollyday/jollyday/0.4.9/jollyday-0.4.9.jar.sha1\n",
      "=> https://repo1.maven.org/maven2/joda-time/joda-time/2.4/joda-time-2.4.jar.sha1: Found at /var/folders/pd/3vnhbdwj3wx1nm58z5lnyyqm0000gn/T/toree_add_deps8827194317915505009/https/repo1.maven.org/maven2/joda-time/joda-time/2.4/joda-time-2.4.jar.sha1\n",
      "-> New file at /var/folders/pd/3vnhbdwj3wx1nm58z5lnyyqm0000gn/T/toree_add_deps8827194317915505009/https/repo1.maven.org/maven2/javax/xml/bind/jaxb-api/2.2.7/jaxb-api-2.2.7.jar\n",
      "-> New file at /var/folders/pd/3vnhbdwj3wx1nm58z5lnyyqm0000gn/T/toree_add_deps8827194317915505009/https/repo1.maven.org/maven2/de/jollyday/jollyday/0.4.9/jollyday-0.4.9.jar\n",
      "-> New file at /var/folders/pd/3vnhbdwj3wx1nm58z5lnyyqm0000gn/T/toree_add_deps8827194317915505009/https/repo1.maven.org/maven2/joda-time/joda-time/2.4/joda-time-2.4.jar\n"
     ]
    }
   ],
   "source": [
    "%AddDeps de.jollyday jollyday 0.4.9 --transitive --verbose\n",
    "import de.jollyday.{HolidayCalendar, HolidayManager}\n",
    "import org.joda.time.format.ISODateTimeFormat\n",
    "import org.joda.time.{DateTime, DateTimeConstants, DateTimeZone, Days}"
   ]
  },
  {
   "cell_type": "code",
   "execution_count": null,
   "metadata": {
    "collapsed": true
   },
   "outputs": [],
   "source": []
  },
  {
   "cell_type": "code",
   "execution_count": null,
   "metadata": {
    "collapsed": true
   },
   "outputs": [],
   "source": []
  },
  {
   "cell_type": "code",
   "execution_count": 2,
   "metadata": {
    "collapsed": false
   },
   "outputs": [
    {
     "name": "stdout",
     "output_type": "stream",
     "text": [
      "Marking de.jollyday:jollyday:0.4.9 for download\n",
      "Preparing to fetch from:\n",
      "-> file:/var/folders/pd/3vnhbdwj3wx1nm58z5lnyyqm0000gn/T/toree_add_deps8827194317915505009/\n",
      "-> https://repo1.maven.org/maven2\n",
      "=> 1 (): Downloading https://repo1.maven.org/maven2/de/jollyday/jollyday/0.4.9/jollyday-0.4.9.pom.sha1\n",
      "=> 2 (): Downloading https://repo1.maven.org/maven2/de/jollyday/jollyday/0.4.9/jollyday-0.4.9.pom\n",
      "=> 1 (jollyday-0.4.9.pom.sha1): Finished downloading\n",
      "=> 2 (jollyday-0.4.9.pom): Finished downloading\n",
      "=> 3 (): Downloading https://repo1.maven.org/maven2/joda-time/joda-time/2.4/joda-time-2.4.pom.sha1\n",
      "=> 4 (): Downloading https://repo1.maven.org/maven2/joda-time/joda-time/2.4/joda-time-2.4.pom\n",
      "=> 5 (): Downloading https://repo1.maven.org/maven2/javax/xml/bind/jaxb-api/2.2.7/jaxb-api-2.2.7.pom.sha1\n",
      "=> 6 (): Downloading https://repo1.maven.org/maven2/javax/xml/bind/jaxb-api/2.2.7/jaxb-api-2.2.7.pom\n",
      "=> 3 (joda-time-2.4.pom.sha1): Finished downloading\n",
      "=> 6 (jaxb-api-2.2.7.pom): Finished downloading\n",
      "=> 4 (joda-time-2.4.pom): Finished downloading\n",
      "=> 5 (jaxb-api-2.2.7.pom.sha1): Finished downloading\n",
      "=> 7 (): Downloading https://repo1.maven.org/maven2/net/java/jvnet-parent/1/jvnet-parent-1.pom\n",
      "=> 8 (): Downloading https://repo1.maven.org/maven2/net/java/jvnet-parent/1/jvnet-parent-1.pom.sha1\n",
      "=> 8 (jvnet-parent-1.pom.sha1): Finished downloading\n",
      "=> 7 (jvnet-parent-1.pom): Finished downloading\n",
      "=> 1 (): Downloading https://repo1.maven.org/maven2/joda-time/joda-time/2.4/joda-time-2.4.jar\n",
      "=> 1 (): Downloading https://repo1.maven.org/maven2/de/jollyday/jollyday/0.4.9/jollyday-0.4.9.jar\n",
      "=> 1 (): Downloading https://repo1.maven.org/maven2/javax/xml/bind/jaxb-api/2.2.7/jaxb-api-2.2.7.jar\n",
      "=> 2 (): Downloading https://repo1.maven.org/maven2/de/jollyday/jollyday/0.4.9/jollyday-0.4.9.jar.sha1\n",
      "=> 2 (): Downloading https://repo1.maven.org/maven2/javax/xml/bind/jaxb-api/2.2.7/jaxb-api-2.2.7.jar.sha1\n",
      "=> 2 (): Downloading https://repo1.maven.org/maven2/joda-time/joda-time/2.4/joda-time-2.4.jar.sha1\n",
      "=> 2 (jollyday-0.4.9.jar.sha1): Finished downloading\n",
      "=> 2 (jaxb-api-2.2.7.jar.sha1): Finished downloading\n",
      "=> 1 (jaxb-api-2.2.7.jar): Finished downloading\n",
      "=> 2 (joda-time-2.4.jar.sha1): Finished downloading\n",
      "=> 1 (joda-time-2.4.jar): Finished downloading\n",
      "=> 1 (jollyday-0.4.9.jar): Finished downloading\n",
      "-> New file at /var/folders/pd/3vnhbdwj3wx1nm58z5lnyyqm0000gn/T/toree_add_deps8827194317915505009/https/repo1.maven.org/maven2/javax/xml/bind/jaxb-api/2.2.7/jaxb-api-2.2.7.jar\n",
      "-> New file at /var/folders/pd/3vnhbdwj3wx1nm58z5lnyyqm0000gn/T/toree_add_deps8827194317915505009/https/repo1.maven.org/maven2/joda-time/joda-time/2.4/joda-time-2.4.jar\n",
      "-> New file at /var/folders/pd/3vnhbdwj3wx1nm58z5lnyyqm0000gn/T/toree_add_deps8827194317915505009/https/repo1.maven.org/maven2/de/jollyday/jollyday/0.4.9/jollyday-0.4.9.jar\n"
     ]
    }
   ],
   "source": []
  },
  {
   "cell_type": "code",
   "execution_count": 3,
   "metadata": {
    "collapsed": true
   },
   "outputs": [],
   "source": []
  },
  {
   "cell_type": "code",
   "execution_count": null,
   "metadata": {
    "collapsed": true
   },
   "outputs": [],
   "source": []
  }
 ],
 "metadata": {
  "kernelspec": {
   "display_name": "Apache Toree - Scala",
   "language": "scala",
   "name": "apache_toree_scala"
  },
  "language_info": {
   "name": "scala",
   "version": "2.10.4"
  }
 },
 "nbformat": 4,
 "nbformat_minor": 1
}
