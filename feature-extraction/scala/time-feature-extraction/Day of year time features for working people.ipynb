{
 "cells": [
  {
   "cell_type": "markdown",
   "metadata": {},
   "source": [
    "## Yearly cadence of an employee\n",
    "\n",
    "The majority of the work force, specially office workers, follow the same rhythm of life. They have a weekend of 1 or 2 days, they take holidays off, and other than that they follow the schedule of their job. I probably didn't do a good job explaining this, but you get it. The machines don't get it though! In this notebook, I show an example of how to explain this to a machine by extracting features that will help it find such patterns in the data."
   ]
  },
  {
   "cell_type": "markdown",
   "metadata": {},
   "source": [
    "## Explainning the day of year to a machine\n",
    "\n",
    "In statistics litrature, features are called explanatory variables. I like this name because it can be understood in two ways (and I like puns):\n",
    "\n",
    "- The dry understand is that those variables explain the target or response variable; the LHS of the equation that explain the outcome on the RHS.\n",
    "- The pun is that those variables explain some concepts to the machine, and by deciding to include them during feature engineering we are telling it to explore the importance of this concept.\n",
    "\n",
    "Let's adopt the second understanding of explanatory variables, and let's see how to explain to the machine the concept of the yearly cadence of an employee. One might think of features such as `IsWeekend` which will be true if the day of week is Saturday or Sunday, and `IsThanksGiving` which will be true for American Thanks Giving day. This is OK if the user base is strictly in the USA. However, I think that there is too much of the programmer's biases encoded into these features. I prefer to engineer features that do not hard code my biases, but allow the machine to find the biases in the training data. This is another play on words, and not an exactly accurate use of the word bias as in Bias vs Variance -- however, I think it is no blatently wrong either, even though a more accurate word to use in this case is priors. Anyway, back to our example. The code snippet below defines the explanatory variables I will use:"
   ]
  },
  {
   "cell_type": "code",
   "execution_count": 15,
   "metadata": {
    "collapsed": false
   },
   "outputs": [
    {
     "name": "stdout",
     "output_type": "stream",
     "text": [
      "The timestamp of each datapoint will be converted to the following 28 features: \n",
      "\tIsMonday -> col0\n",
      "\tIsTueday -> col1\n",
      "\tIsWednesday -> col2\n",
      "\tIsThursday -> col3\n",
      "\tIsFriday -> col4\n",
      "\tIsSaturday -> col5\n",
      "\tIsSunday -> col6\n",
      "\tIsJan -> col7\n",
      "\tIsFeb -> col8\n",
      "\tIsMar -> col9\n",
      "\tIsApr -> col10\n",
      "\tIsMay -> col11\n",
      "\tIsJun -> col12\n",
      "\tIsJul -> col13\n",
      "\tIsAug -> col14\n",
      "\tIsSep -> col15\n",
      "\tIsOct -> col16\n",
      "\tIsNov -> col17\n",
      "\tIsDec -> col18\n",
      "\tIsWeek1 -> col19\n",
      "\tIsWeek2 -> col20\n",
      "\tIsWeek3 -> col21\n",
      "\tIsWeek4 -> col22\n",
      "\tIsWeek5 -> col23\n",
      "\tYear -> col24\n",
      "\tIsHoliday -> col25\n",
      "\tIsHolidayEve -> col26\n",
      "\tIsWorkDay -> col27\n"
     ]
    }
   ],
   "source": [
    "// First variable: a on-hot-encoded explanatory variable for the day of week.\n",
    "// This should help the machine discover the fact that there is a weekly \n",
    "// cycle to the lives of many workers, if the data supports this.\n",
    "final val dayOfWeekFeautreNames = Array(\"IsMonday\",\n",
    "                                        \"IsTueday\",\n",
    "                                        \"IsWednesday\",\n",
    "                                        \"IsThursday\",\n",
    "                                        \"IsFriday\",\n",
    "                                        \"IsSaturday\",\n",
    "                                        \"IsSunday\")\n",
    "\n",
    "\n",
    "// Second variable: a one-hot-encoded explanatory variable for the month of year.\n",
    "// This should help the machine discover the yearly cycle in the lives\n",
    "// of many people, if the subjects creating the dataset have one.\n",
    "final val monthOfYearFeatureNames = Array(\"IsJan\",\n",
    "                                          \"IsFeb\",\n",
    "                                          \"IsMar\",\n",
    "                                          \"IsApr\",\n",
    "                                          \"IsMay\",\n",
    "                                          \"IsJun\",\n",
    "                                          \"IsJul\",\n",
    "                                          \"IsAug\",\n",
    "                                          \"IsSep\",\n",
    "                                          \"IsOct\",\n",
    "                                          \"IsNov\",\n",
    "                                          \"IsDec\")\n",
    "\n",
    "\n",
    "// Third variable: a one-hot-encoded explanatory variable for the week of the month.\n",
    "// This should help the machine explain any patters that follow the cycle\n",
    "// of paychecks, or more generally any monthly cycle. Notice that I could have\n",
    "// used 31 features, one for each day. Do this if there will be enough data to find\n",
    "// patterns on such fine grained features. You can use a Kalman filter to test.\n",
    "final val weekOfMonthFeatureNames = Array(\"IsWeek1\",\n",
    "                                          \"IsWeek2\",\n",
    "                                          \"IsWeek3\",\n",
    "                                          \"IsWeek4\",\n",
    "                                          \"IsWeek5\")\n",
    "\n",
    "\n",
    "// Fourth, we need some explanatory variables to explain trends.\n",
    "// We will use only one, for the year over year trend.\n",
    "final val yearFeatureName = \"Year\"\n",
    "final val trendFeatureNames = Array(yearFeatureName)\n",
    "\n",
    "\n",
    "// Finally, we need some explanatory variables to capture the effect of\n",
    "// domain specific factors which we believe should affect the target variable.\n",
    "final val isHolidayFeatureName = \"IsHoliday\"\n",
    "final val isHolidayEveFeatureName = \"IsHolidayEve\"\n",
    "final val isWorkDayFeatureName = \"IsWorkDay\"\n",
    "final val domainSpecificFeatureNames = Array(isHolidayFeatureName,\n",
    "                                             isHolidayEveFeatureName,\n",
    "                                             isWorkDayFeatureName)\n",
    "\n",
    "// Now let's put everything together, and to help us create feature vectors\n",
    "// we will create a Map from a feature to a column index.\n",
    "final val dayOfYearExplanatoryVariables = dayOfWeekFeautreNames.++(\n",
    "                                          monthOfYearFeatureNames).++(\n",
    "                                          weekOfMonthFeatureNames).++(\n",
    "                                          trendFeatureNames).++(\n",
    "                                          domainSpecificFeatureNames)\n",
    "                                          \n",
    "final val featureToCol = dayOfYearExplanatoryVariables.zipWithIndex.toMap\n",
    "                                          \n",
    "println(\"The timestamp of each datapoint will be converted to the following 28 features: \\n\\t\" +\n",
    "         dayOfYearExplanatoryVariables.zipWithIndex.map(kv => kv._1 + \" -> col\" + kv._2).mkString(\"\\n\\t\"))"
   ]
  },
  {
   "cell_type": "markdown",
   "metadata": {},
   "source": [
    "## Feature extraction\n",
    "\n",
    "Now that we know what features we want to use, we need to write code to convert a timestamp to all those features. The output is going to be an array of (feautre column index, value) pairs. This can then be easily converted to a Vector representation suitable for the machine learning library of your choice.\n",
    "\n",
    "### Dependencies\n",
    "\n",
    "The code depends on Joda Time and Jolly Day:\n",
    "\n",
    "- Joda Time is the de facto time library before Java 8. \n",
    "- Jolly Day is a library to detect holidays. It worked well for North American holidays, and it should work for other countries as well! Version 0.4.9 is the latest version that does not use Java 8 features, so I am using it to avoid dealing with issues of running Scala on Java 8. \n",
    "\n",
    "PS: Jolly Day pulls in a version of Joda Time."
   ]
  },
  {
   "cell_type": "code",
   "execution_count": 16,
   "metadata": {
    "collapsed": true
   },
   "outputs": [
    {
     "name": "stdout",
     "output_type": "stream",
     "text": [
      "Marking de.jollyday:jollyday:0.4.9 for download\n",
      "Preparing to fetch from:\n",
      "-> file:/var/folders/pd/3vnhbdwj3wx1nm58z5lnyyqm0000gn/T/toree_add_deps8827194317915505009/\n",
      "-> https://repo1.maven.org/maven2\n",
      "=> https://repo1.maven.org/maven2/de/jollyday/jollyday/0.4.9/jollyday-0.4.9.pom: Found at /var/folders/pd/3vnhbdwj3wx1nm58z5lnyyqm0000gn/T/toree_add_deps8827194317915505009/https/repo1.maven.org/maven2/de/jollyday/jollyday/0.4.9/jollyday-0.4.9.pom\n",
      "=> https://repo1.maven.org/maven2/de/jollyday/jollyday/0.4.9/jollyday-0.4.9.pom: Found at /var/folders/pd/3vnhbdwj3wx1nm58z5lnyyqm0000gn/T/toree_add_deps8827194317915505009/https/repo1.maven.org/maven2/de/jollyday/jollyday/0.4.9/jollyday-0.4.9.pom\n",
      "=> https://repo1.maven.org/maven2/de/jollyday/jollyday/0.4.9/jollyday-0.4.9.pom.sha1: Found at /var/folders/pd/3vnhbdwj3wx1nm58z5lnyyqm0000gn/T/toree_add_deps8827194317915505009/https/repo1.maven.org/maven2/de/jollyday/jollyday/0.4.9/jollyday-0.4.9.pom.sha1\n",
      "=> https://repo1.maven.org/maven2/de/jollyday/jollyday/0.4.9/jollyday-0.4.9.pom.sha1: Found at /var/folders/pd/3vnhbdwj3wx1nm58z5lnyyqm0000gn/T/toree_add_deps8827194317915505009/https/repo1.maven.org/maven2/de/jollyday/jollyday/0.4.9/jollyday-0.4.9.pom.sha1\n",
      "=> https://repo1.maven.org/maven2/joda-time/joda-time/2.4/joda-time-2.4.pom: Found at /var/folders/pd/3vnhbdwj3wx1nm58z5lnyyqm0000gn/T/toree_add_deps8827194317915505009/https/repo1.maven.org/maven2/joda-time/joda-time/2.4/joda-time-2.4.pom\n",
      "=> https://repo1.maven.org/maven2/joda-time/joda-time/2.4/joda-time-2.4.pom.sha1: Found at /var/folders/pd/3vnhbdwj3wx1nm58z5lnyyqm0000gn/T/toree_add_deps8827194317915505009/https/repo1.maven.org/maven2/joda-time/joda-time/2.4/joda-time-2.4.pom.sha1\n",
      "=> https://repo1.maven.org/maven2/joda-time/joda-time/2.4/joda-time-2.4.pom: Found at /var/folders/pd/3vnhbdwj3wx1nm58z5lnyyqm0000gn/T/toree_add_deps8827194317915505009/https/repo1.maven.org/maven2/joda-time/joda-time/2.4/joda-time-2.4.pom\n",
      "=> https://repo1.maven.org/maven2/joda-time/joda-time/2.4/joda-time-2.4.pom.sha1: Found at /var/folders/pd/3vnhbdwj3wx1nm58z5lnyyqm0000gn/T/toree_add_deps8827194317915505009/https/repo1.maven.org/maven2/joda-time/joda-time/2.4/joda-time-2.4.pom.sha1\n",
      "=> https://repo1.maven.org/maven2/javax/xml/bind/jaxb-api/2.2.7/jaxb-api-2.2.7.pom.sha1: Found at /var/folders/pd/3vnhbdwj3wx1nm58z5lnyyqm0000gn/T/toree_add_deps8827194317915505009/https/repo1.maven.org/maven2/javax/xml/bind/jaxb-api/2.2.7/jaxb-api-2.2.7.pom.sha1\n",
      "=> https://repo1.maven.org/maven2/javax/xml/bind/jaxb-api/2.2.7/jaxb-api-2.2.7.pom.sha1: Found at /var/folders/pd/3vnhbdwj3wx1nm58z5lnyyqm0000gn/T/toree_add_deps8827194317915505009/https/repo1.maven.org/maven2/javax/xml/bind/jaxb-api/2.2.7/jaxb-api-2.2.7.pom.sha1\n",
      "=> https://repo1.maven.org/maven2/javax/xml/bind/jaxb-api/2.2.7/jaxb-api-2.2.7.pom: Found at /var/folders/pd/3vnhbdwj3wx1nm58z5lnyyqm0000gn/T/toree_add_deps8827194317915505009/https/repo1.maven.org/maven2/javax/xml/bind/jaxb-api/2.2.7/jaxb-api-2.2.7.pom\n",
      "=> https://repo1.maven.org/maven2/javax/xml/bind/jaxb-api/2.2.7/jaxb-api-2.2.7.pom: Found at /var/folders/pd/3vnhbdwj3wx1nm58z5lnyyqm0000gn/T/toree_add_deps8827194317915505009/https/repo1.maven.org/maven2/javax/xml/bind/jaxb-api/2.2.7/jaxb-api-2.2.7.pom\n",
      "=> https://repo1.maven.org/maven2/net/java/jvnet-parent/1/jvnet-parent-1.pom.sha1: Found at /var/folders/pd/3vnhbdwj3wx1nm58z5lnyyqm0000gn/T/toree_add_deps8827194317915505009/https/repo1.maven.org/maven2/net/java/jvnet-parent/1/jvnet-parent-1.pom.sha1\n",
      "=> https://repo1.maven.org/maven2/net/java/jvnet-parent/1/jvnet-parent-1.pom: Found at /var/folders/pd/3vnhbdwj3wx1nm58z5lnyyqm0000gn/T/toree_add_deps8827194317915505009/https/repo1.maven.org/maven2/net/java/jvnet-parent/1/jvnet-parent-1.pom\n",
      "=> https://repo1.maven.org/maven2/net/java/jvnet-parent/1/jvnet-parent-1.pom: Found at /var/folders/pd/3vnhbdwj3wx1nm58z5lnyyqm0000gn/T/toree_add_deps8827194317915505009/https/repo1.maven.org/maven2/net/java/jvnet-parent/1/jvnet-parent-1.pom\n",
      "=> https://repo1.maven.org/maven2/net/java/jvnet-parent/1/jvnet-parent-1.pom.sha1: Found at /var/folders/pd/3vnhbdwj3wx1nm58z5lnyyqm0000gn/T/toree_add_deps8827194317915505009/https/repo1.maven.org/maven2/net/java/jvnet-parent/1/jvnet-parent-1.pom.sha1\n",
      "=> https://repo1.maven.org/maven2/javax/xml/bind/jaxb-api/2.2.7/jaxb-api-2.2.7.jar: Found at /var/folders/pd/3vnhbdwj3wx1nm58z5lnyyqm0000gn/T/toree_add_deps8827194317915505009/https/repo1.maven.org/maven2/javax/xml/bind/jaxb-api/2.2.7/jaxb-api-2.2.7.jar\n",
      "=> https://repo1.maven.org/maven2/javax/xml/bind/jaxb-api/2.2.7/jaxb-api-2.2.7.jar: Found at /var/folders/pd/3vnhbdwj3wx1nm58z5lnyyqm0000gn/T/toree_add_deps8827194317915505009/https/repo1.maven.org/maven2/javax/xml/bind/jaxb-api/2.2.7/jaxb-api-2.2.7.jar\n",
      "=> https://repo1.maven.org/maven2/joda-time/joda-time/2.4/joda-time-2.4.jar: Found at /var/folders/pd/3vnhbdwj3wx1nm58z5lnyyqm0000gn/T/toree_add_deps8827194317915505009/https/repo1.maven.org/maven2/joda-time/joda-time/2.4/joda-time-2.4.jar\n",
      "=> https://repo1.maven.org/maven2/joda-time/joda-time/2.4/joda-time-2.4.jar: Found at /var/folders/pd/3vnhbdwj3wx1nm58z5lnyyqm0000gn/T/toree_add_deps8827194317915505009/https/repo1.maven.org/maven2/joda-time/joda-time/2.4/joda-time-2.4.jar\n",
      "=> https://repo1.maven.org/maven2/joda-time/joda-time/2.4/joda-time-2.4.jar.sha1: Found at /var/folders/pd/3vnhbdwj3wx1nm58z5lnyyqm0000gn/T/toree_add_deps8827194317915505009/https/repo1.maven.org/maven2/joda-time/joda-time/2.4/joda-time-2.4.jar.sha1\n",
      "=> https://repo1.maven.org/maven2/de/jollyday/jollyday/0.4.9/jollyday-0.4.9.jar.sha1: Found at /var/folders/pd/3vnhbdwj3wx1nm58z5lnyyqm0000gn/T/toree_add_deps8827194317915505009/https/repo1.maven.org/maven2/de/jollyday/jollyday/0.4.9/jollyday-0.4.9.jar.sha1\n",
      "=> https://repo1.maven.org/maven2/joda-time/joda-time/2.4/joda-time-2.4.jar.sha1: Found at /var/folders/pd/3vnhbdwj3wx1nm58z5lnyyqm0000gn/T/toree_add_deps8827194317915505009/https/repo1.maven.org/maven2/joda-time/joda-time/2.4/joda-time-2.4.jar.sha1\n",
      "=> https://repo1.maven.org/maven2/de/jollyday/jollyday/0.4.9/jollyday-0.4.9.jar.sha1: Found at /var/folders/pd/3vnhbdwj3wx1nm58z5lnyyqm0000gn/T/toree_add_deps8827194317915505009/https/repo1.maven.org/maven2/de/jollyday/jollyday/0.4.9/jollyday-0.4.9.jar.sha1\n",
      "=> https://repo1.maven.org/maven2/javax/xml/bind/jaxb-api/2.2.7/jaxb-api-2.2.7.jar.sha1: Found at /var/folders/pd/3vnhbdwj3wx1nm58z5lnyyqm0000gn/T/toree_add_deps8827194317915505009/https/repo1.maven.org/maven2/javax/xml/bind/jaxb-api/2.2.7/jaxb-api-2.2.7.jar.sha1\n",
      "=> https://repo1.maven.org/maven2/javax/xml/bind/jaxb-api/2.2.7/jaxb-api-2.2.7.jar.sha1: Found at /var/folders/pd/3vnhbdwj3wx1nm58z5lnyyqm0000gn/T/toree_add_deps8827194317915505009/https/repo1.maven.org/maven2/javax/xml/bind/jaxb-api/2.2.7/jaxb-api-2.2.7.jar.sha1\n",
      "=> https://repo1.maven.org/maven2/de/jollyday/jollyday/0.4.9/jollyday-0.4.9.jar: Found at /var/folders/pd/3vnhbdwj3wx1nm58z5lnyyqm0000gn/T/toree_add_deps8827194317915505009/https/repo1.maven.org/maven2/de/jollyday/jollyday/0.4.9/jollyday-0.4.9.jar\n",
      "=> https://repo1.maven.org/maven2/de/jollyday/jollyday/0.4.9/jollyday-0.4.9.jar: Found at /var/folders/pd/3vnhbdwj3wx1nm58z5lnyyqm0000gn/T/toree_add_deps8827194317915505009/https/repo1.maven.org/maven2/de/jollyday/jollyday/0.4.9/jollyday-0.4.9.jar\n",
      "-> New file at /var/folders/pd/3vnhbdwj3wx1nm58z5lnyyqm0000gn/T/toree_add_deps8827194317915505009/https/repo1.maven.org/maven2/javax/xml/bind/jaxb-api/2.2.7/jaxb-api-2.2.7.jar\n",
      "-> New file at /var/folders/pd/3vnhbdwj3wx1nm58z5lnyyqm0000gn/T/toree_add_deps8827194317915505009/https/repo1.maven.org/maven2/joda-time/joda-time/2.4/joda-time-2.4.jar\n",
      "-> New file at /var/folders/pd/3vnhbdwj3wx1nm58z5lnyyqm0000gn/T/toree_add_deps8827194317915505009/https/repo1.maven.org/maven2/de/jollyday/jollyday/0.4.9/jollyday-0.4.9.jar\n"
     ]
    }
   ],
   "source": [
    "%AddDeps de.jollyday jollyday 0.4.9 --transitive --verbose\n",
    "import de.jollyday.{HolidayCalendar, HolidayManager}\n",
    "import org.joda.time.format.ISODateTimeFormat\n",
    "import org.joda.time.{DateTime, DateTimeConstants, DateTimeZone, Days, LocalDate}"
   ]
  },
  {
   "cell_type": "markdown",
   "metadata": {},
   "source": [
    "### A note on code organization\n",
    "\n",
    "The code in this notebook should be organized by putting it in a feature extractor class and its companion object. I am writing this because I am still put off by the notebook style of programming, where everything is global. Well, I know that I can define a class in a code cell, but then how do I insert markdown cells in the middle. Anyway, back to the example, and at least Scala makes it very easy to code in several styles. Let's code!"
   ]
  },
  {
   "cell_type": "code",
   "execution_count": 25,
   "metadata": {
    "collapsed": false
   },
   "outputs": [],
   "source": [
    "import scala.collection.mutable.ListBuffer\n",
    "\n",
    "def extractDayOfYearFeatures(timeInZone: DateTime, countryCode: String, stateOpt: Option[String]): Seq[(Int, Double)] = {\n",
    "    \n",
    "    val dayOfWeekFeatureName = dayOfWeekFeautreNames(timeInZone.getDayOfWeek - 1)\n",
    "    val dayOfWeekFeatureIx = featureToCol(dayOfWeekFeatureName)\n",
    "\n",
    "    val monthOfYearFeatureName = monthOfYearFeatureNames(timeInZone.getMonthOfYear - 1)\n",
    "    val monthOfYearFeatureIx = featureToCol(monthOfYearFeatureName)\n",
    "\n",
    "    // The value of the year cannot be left as large as 2015, but must be normalized to 0, 1 range\n",
    "    // See http://www.machine-wisdom.com/blog/post/002_linear-regression-poor-perf/ for reasons why\n",
    "    val year: Double = timeInZone.getYear\n",
    "    \n",
    "    val weekOfMonthNumber: Int = timeInZone.getDayOfMonth / 7\n",
    "    val weekOfMonthFeatureName = weekOfMonthFeatureNames(weekOfMonthNumber)\n",
    "    val weekOfMonthFeatureIx = featureToCol(weekOfMonthFeatureName)\n",
    "    \n",
    "    // The holiday and workday features are a little bit more interesting\n",
    "    val holidayManager = countryCode match {\n",
    "      case \"CA\" => HolidayManager.getInstance(HolidayCalendar.CANADA)\n",
    "      // TODO: Add all the countries in which you operate\n",
    "      case _ => HolidayManager.getInstance(HolidayCalendar.UNITED_STATES)\n",
    "    }\n",
    "\n",
    "    def isHoliday(localDate: LocalDate): Boolean = stateOpt match {\n",
    "      case Some(state) => holidayManager.isHoliday(localDate, state)\n",
    "      case None =>        holidayManager.isHoliday(localDate)\n",
    "    }\n",
    "\n",
    "    // TODO: Make sure this is correct in all countries in which you operate\n",
    "    val weekendDays = Set(DateTimeConstants.SATURDAY, DateTimeConstants.SUNDAY)\n",
    "\n",
    "    val features: ListBuffer[(Int, Double)] = ListBuffer((dayOfWeekFeatureIx, 1.0),\n",
    "                                                          (monthOfYearFeatureIx, 1.0),\n",
    "                                                          (featureToCol(yearFeatureName), year),\n",
    "                                                          (weekOfMonthFeatureIx, 1.0))\n",
    "\n",
    "    if (isHoliday(timeInZone.toLocalDate)) {\n",
    "      features.+=((featureToCol(isHolidayFeatureName), 1.0))\n",
    "    } else if (!weekendDays.contains(timeInZone.dayOfWeek().get())) {\n",
    "      features.+=((featureToCol(isWorkDayFeatureName), 1.0))\n",
    "    }\n",
    "\n",
    "    if (isHoliday(timeInZone.plusDays(1).toLocalDate)) {\n",
    "      features.+=((featureToCol(isHolidayEveFeatureName), 1.0))\n",
    "    }\n",
    "\n",
    "    features.toSeq.sorted\n",
    "}"
   ]
  },
  {
   "cell_type": "markdown",
   "metadata": {},
   "source": [
    "### Unit tests\n",
    "Let's test if the code above works. Again, this code should go into a unit test. But when in Rome do like Romans do, so when in a notebook do like people who code in a browser do."
   ]
  },
  {
   "cell_type": "code",
   "execution_count": 30,
   "metadata": {
    "collapsed": false
   },
   "outputs": [
    {
     "name": "stdout",
     "output_type": "stream",
     "text": [
      "Expected: List((0,1.0), (16,1.0), (20,1.0), (24,2015.0), (25,1.0))\n",
      "Actual: List((0,1.0), (16,1.0), (20,1.0), (24,2015.0), (25,1.0))\n"
     ]
    }
   ],
   "source": [
    "val canadianThanksGiving = ISODateTimeFormat.date().parseLocalDateTime(\"2015-10-12\").toDateTime(DateTimeZone.forID(\"CST6CDT\"))\n",
    "val canadianThanksGivingActual = extractDayOfYearFeatures(canadianThanksGiving, \"CA\", Some(\"ON\"))\n",
    "val canadianThanksGivingExpected = Seq((featureToCol(\"IsMonday\"), 1.0),\n",
    "                                       (featureToCol(\"IsHoliday\"), 1.0),\n",
    "                                       (featureToCol(\"IsOct\"), 1.0),\n",
    "                                       (featureToCol(\"IsWeek2\"), 1.0),\n",
    "                                       (featureToCol(\"Year\"), 2015.0)\n",
    "                                       ).sorted\n",
    "println(\"Expected: \" + canadianThanksGivingExpected)\n",
    "println(\"Actual: \" + canadianThanksGivingActual)\n",
    "assert(canadianThanksGivingActual == canadianThanksGivingExpected)\n"
   ]
  },
  {
   "cell_type": "code",
   "execution_count": 32,
   "metadata": {
    "collapsed": false
   },
   "outputs": [
    {
     "name": "stdout",
     "output_type": "stream",
     "text": [
      "Expected: List((2,1.0), (18,1.0), (22,1.0), (24,2014.0), (26,1.0), (27,1.0))\n",
      "Actual: List((2,1.0), (18,1.0), (22,1.0), (24,2014.0), (26,1.0), (27,1.0))\n"
     ]
    }
   ],
   "source": [
    "val usChristmasEve = ISODateTimeFormat.date().parseLocalDateTime(\"2014-12-24\").toDateTime(DateTimeZone.forID(\"CST6CDT\"))\n",
    "val usChristmasEveActual = extractDayOfYearFeatures(usChristmasEve, \"US\", None)\n",
    "val usChristmasEveExpected = Seq((featureToCol(\"IsWednesday\"), 1.0),\n",
    "                                 (featureToCol(\"IsHolidayEve\"), 1.0),\n",
    "                                 (featureToCol(\"IsWorkDay\"), 1.0),\n",
    "                                 (featureToCol(\"IsDec\"), 1.0),\n",
    "                                 (featureToCol(\"IsWeek4\"), 1.0),\n",
    "                                 (featureToCol(\"Year\"), 2014.0)\n",
    "                                 ).sorted\n",
    "println(\"Expected: \" + usChristmasEveExpected)\n",
    "println(\"Actual: \" + usChristmasEveActual)\n",
    "assert(usChristmasEveActual == usChristmasEveExpected)\n"
   ]
  },
  {
   "cell_type": "markdown",
   "metadata": {},
   "source": [
    "## Conclusion\n",
    "\n",
    "We have seen one way of extracting useful features out of a timestamp. Now append this sequence to other features that you use, add a response variable column, maybe also add the value of response in some lag days, and let the learning begin.... wait NO! You must first see if, based on your data, there are any correlated features (specially the holiday and workay features). Some algorithms will produce poor results if they are given correlated features. Also, you may (need to normalize the Year column)[http://www.machine-wisdom.com/blog/post/002_linear-regression-poor-perf/]. \n",
    "\n",
    "If you would like to discuss this notebook, please (join the conversation on Gitter)[https://gitter.im/machine-wisdom/Lobby]."
   ]
  },
  {
   "cell_type": "code",
   "execution_count": null,
   "metadata": {
    "collapsed": true
   },
   "outputs": [],
   "source": []
  }
 ],
 "metadata": {
  "kernelspec": {
   "display_name": "Apache Toree - Scala",
   "language": "scala",
   "name": "apache_toree_scala"
  },
  "language_info": {
   "name": "scala",
   "version": "2.10.4"
  }
 },
 "nbformat": 4,
 "nbformat_minor": 1
}
