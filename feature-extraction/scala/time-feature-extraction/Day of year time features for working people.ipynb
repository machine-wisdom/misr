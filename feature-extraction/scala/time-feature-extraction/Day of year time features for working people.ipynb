{
 "cells": [
  {
   "cell_type": "markdown",
   "metadata": {},
   "source": [
    "# Yearly cadence of an employee\n",
    "\n",
    "The majority of the work force, specially office workers, follow the same rhythm of life. They have a weekend of 1 or 2 days, they take holidays off, and other than that they follow the schedule of their job. I probably didn't do a good job explaining this, but you get it. The machines don't get it though! In this notebook, I show an example of how to explain this to a machine by extracting features that will help it find such patterns in the data."
   ]
  },
  {
   "cell_type": "markdown",
   "metadata": {},
   "source": [
    "## Explainning the day of year to a machine\n",
    "\n",
    "In statistics litrature, features are called explanatory variables. I like this name because it can be understood in two ways (and I like puns):\n",
    "\n",
    "- The dry understand is that those variables explain the target or response variable; the LHS of the equation that explain the outcome on the RHS.\n",
    "- The pun is that those variables explain some concepts to the machine, and by deciding to include them during feature engineering we are telling it to explore the importance of this concept.\n",
    "\n",
    "Let's adopt the second understanding of explanatory variables, and let's see how to explain to the machine the concept of the yearly cadence of an employee. One might think of features such as `IsWeekend` which will be true if the day of week is Saturday or Sunday, and `IsThanksGiving` which will be true for American Thanks Giving day. This is OK if the user base is strictly in the USA. However, I think that there is too much of the programmer's biases encoded into these features. I prefer to engineer features that do not hard code my biases, but allow the machine to find the biases in the training data. This is another play on words, and not an exactly accurate use of the word bias as in Bias vs Variance -- however, I think it is no blatently wrong either, even though a more accurate word to use in this case is priors. Anyway, back to our example. The code snippet below defines the explanatory variables I will use:"
   ]
  },
  {
   "cell_type": "code",
   "execution_count": 14,
   "metadata": {
    "collapsed": false
   },
   "outputs": [
    {
     "name": "stdout",
     "output_type": "stream",
     "text": [
      "The timestamp of each datapoint will be converted to the following 28 features: \n",
      "\tIsMonday -> col0\n",
      "\tIsTueday -> col1\n",
      "\tIsWednesday -> col2\n",
      "\tIsThursday -> col3\n",
      "\tIsFriday -> col4\n",
      "\tIsSaturday -> col5\n",
      "\tIsSunday -> col6\n",
      "\tIsJan -> col7\n",
      "\tIsFeb -> col8\n",
      "\tIsMar -> col9\n",
      "\tIsApr -> col10\n",
      "\tIsMay -> col11\n",
      "\tIsJun -> col12\n",
      "\tIsJul -> col13\n",
      "\tIsAug -> col14\n",
      "\tIsSep -> col15\n",
      "\tIsOct -> col16\n",
      "\tIsNov -> col17\n",
      "\tIsDec -> col18\n",
      "\tIsWeek1 -> col19\n",
      "\tIsWeek2 -> col20\n",
      "\tIsWeek3 -> col21\n",
      "\tIsWeek4 -> col22\n",
      "\tIsWeek5 -> col23\n",
      "\tYear -> col24\n",
      "\tIsHoliday -> col25\n",
      "\tIsHolidayEve -> col26\n",
      "\tIsWorkDay -> col27\n"
     ]
    }
   ],
   "source": [
    "// First variable: a on-hot-encoded explanatory variable for the day of week.\n",
    "// This should help the machine discover the fact that there is a weekly \n",
    "// cycle to the lives of many workers, if the data supports this.\n",
    "final val dayOfWeekFeautreNames = Array(\"IsMonday\",\n",
    "                                        \"IsTueday\",\n",
    "                                        \"IsWednesday\",\n",
    "                                        \"IsThursday\",\n",
    "                                        \"IsFriday\",\n",
    "                                        \"IsSaturday\",\n",
    "                                        \"IsSunday\")\n",
    "\n",
    "\n",
    "// Second variable: a one-hot-encoded explanatory variable for the month of year.\n",
    "// This should help the machine discover the yearly cycle in the lives\n",
    "// of many people, if the subjects creating the dataset have one.\n",
    "final val monthOfYearFeatureNames = Array(\"IsJan\",\n",
    "                                          \"IsFeb\",\n",
    "                                          \"IsMar\",\n",
    "                                          \"IsApr\",\n",
    "                                          \"IsMay\",\n",
    "                                          \"IsJun\",\n",
    "                                          \"IsJul\",\n",
    "                                          \"IsAug\",\n",
    "                                          \"IsSep\",\n",
    "                                          \"IsOct\",\n",
    "                                          \"IsNov\",\n",
    "                                          \"IsDec\")\n",
    "\n",
    "\n",
    "// Third variable: a one-hot-encoded explanatory variable for the week of the month.\n",
    "// This should help the machine explain any patters that follow the cycle\n",
    "// of paychecks, or more generally any monthly cycle. Notice that I could have\n",
    "// used 31 features, one for each day. Do this if there will be enough data to find\n",
    "// patterns on such fine grained features. You can use a Kalman filter to test.\n",
    "final val weekOfMonthFeatureNames = Array(\"IsWeek1\",\n",
    "                                          \"IsWeek2\",\n",
    "                                          \"IsWeek3\",\n",
    "                                          \"IsWeek4\",\n",
    "                                          \"IsWeek5\")\n",
    "\n",
    "\n",
    "// Fourth, we need some explanatory variables to explain trends.\n",
    "// We will use only one, for the year over year trend.\n",
    "final val trendFeatureNames = Array(\"Year\")\n",
    "\n",
    "\n",
    "// Finally, we need some explanatory variables to capture the effect of\n",
    "// domain specific factors which we believe should affect the target variable.\n",
    "final val domainSpecificFeatureNames = Array(\"IsHoliday\",\n",
    "                                             \"IsHolidayEve\",\n",
    "                                             \"IsWorkDay\")\n",
    "\n",
    "// Now let's put everything together, and to help us create feature vectors\n",
    "// we will create a Map from a feature to a column index.\n",
    "final val dayOfYearExplanatoryVariables = dayOfWeekFeautreNames.++(\n",
    "                                          monthOfYearFeatureNames).++(\n",
    "                                          weekOfMonthFeatureNames).++(\n",
    "                                          trendFeatureNames).++(\n",
    "                                          domainSpecificFeatureNames)\n",
    "                                          \n",
    "final val featureToCol = dayOfYearExplanatoryVariables.zipWithIndex.toMap\n",
    "                                          \n",
    "println(\"The timestamp of each datapoint will be converted to the following 28 features: \\n\\t\" +\n",
    "         dayOfYearExplanatoryVariables.zipWithIndex.map(kv => kv._1 + \" -> col\" + kv._2).mkString(\"\\n\\t\"))"
   ]
  },
  {
   "cell_type": "markdown",
   "metadata": {},
   "source": [
    "## Dependencies\n",
    "\n",
    "The code depends on Joda Time and Jolly Day:\n",
    "\n",
    "- Joda Time is the de facto time library before Java 8. \n",
    "- Jolly Day is a library to detect holidays. It worked well for North American holidays, and it should work for other countries as well! Version 0.4.9 is the latest version that does not use Java 8 features, so I am using it to avoid dealing with issues of running Scala on Java 8. \n",
    "\n",
    "PS: Jolly Day pulls in a version of Joda Time."
   ]
  },
  {
   "cell_type": "code",
   "execution_count": 5,
   "metadata": {
    "collapsed": false
   },
   "outputs": [
    {
     "name": "stdout",
     "output_type": "stream",
     "text": [
      "Marking de.jollyday:jollyday:0.4.9 for download\n",
      "Preparing to fetch from:\n",
      "-> file:/var/folders/pd/3vnhbdwj3wx1nm58z5lnyyqm0000gn/T/toree_add_deps8827194317915505009/\n",
      "-> https://repo1.maven.org/maven2\n",
      "=> https://repo1.maven.org/maven2/de/jollyday/jollyday/0.4.9/jollyday-0.4.9.pom: Found at /var/folders/pd/3vnhbdwj3wx1nm58z5lnyyqm0000gn/T/toree_add_deps8827194317915505009/https/repo1.maven.org/maven2/de/jollyday/jollyday/0.4.9/jollyday-0.4.9.pom\n",
      "=> https://repo1.maven.org/maven2/de/jollyday/jollyday/0.4.9/jollyday-0.4.9.pom.sha1: Found at /var/folders/pd/3vnhbdwj3wx1nm58z5lnyyqm0000gn/T/toree_add_deps8827194317915505009/https/repo1.maven.org/maven2/de/jollyday/jollyday/0.4.9/jollyday-0.4.9.pom.sha1\n",
      "=> https://repo1.maven.org/maven2/de/jollyday/jollyday/0.4.9/jollyday-0.4.9.pom.sha1: Found at /var/folders/pd/3vnhbdwj3wx1nm58z5lnyyqm0000gn/T/toree_add_deps8827194317915505009/https/repo1.maven.org/maven2/de/jollyday/jollyday/0.4.9/jollyday-0.4.9.pom.sha1\n",
      "=> https://repo1.maven.org/maven2/de/jollyday/jollyday/0.4.9/jollyday-0.4.9.pom: Found at /var/folders/pd/3vnhbdwj3wx1nm58z5lnyyqm0000gn/T/toree_add_deps8827194317915505009/https/repo1.maven.org/maven2/de/jollyday/jollyday/0.4.9/jollyday-0.4.9.pom\n",
      "=> https://repo1.maven.org/maven2/joda-time/joda-time/2.4/joda-time-2.4.pom.sha1: Found at /var/folders/pd/3vnhbdwj3wx1nm58z5lnyyqm0000gn/T/toree_add_deps8827194317915505009/https/repo1.maven.org/maven2/joda-time/joda-time/2.4/joda-time-2.4.pom.sha1\n",
      "=> https://repo1.maven.org/maven2/javax/xml/bind/jaxb-api/2.2.7/jaxb-api-2.2.7.pom.sha1: Found at /var/folders/pd/3vnhbdwj3wx1nm58z5lnyyqm0000gn/T/toree_add_deps8827194317915505009/https/repo1.maven.org/maven2/javax/xml/bind/jaxb-api/2.2.7/jaxb-api-2.2.7.pom.sha1\n",
      "=> https://repo1.maven.org/maven2/javax/xml/bind/jaxb-api/2.2.7/jaxb-api-2.2.7.pom: Found at /var/folders/pd/3vnhbdwj3wx1nm58z5lnyyqm0000gn/T/toree_add_deps8827194317915505009/https/repo1.maven.org/maven2/javax/xml/bind/jaxb-api/2.2.7/jaxb-api-2.2.7.pom\n",
      "=> https://repo1.maven.org/maven2/joda-time/joda-time/2.4/joda-time-2.4.pom: Found at /var/folders/pd/3vnhbdwj3wx1nm58z5lnyyqm0000gn/T/toree_add_deps8827194317915505009/https/repo1.maven.org/maven2/joda-time/joda-time/2.4/joda-time-2.4.pom\n",
      "=> https://repo1.maven.org/maven2/joda-time/joda-time/2.4/joda-time-2.4.pom.sha1: Found at /var/folders/pd/3vnhbdwj3wx1nm58z5lnyyqm0000gn/T/toree_add_deps8827194317915505009/https/repo1.maven.org/maven2/joda-time/joda-time/2.4/joda-time-2.4.pom.sha1\n",
      "=> https://repo1.maven.org/maven2/javax/xml/bind/jaxb-api/2.2.7/jaxb-api-2.2.7.pom: Found at /var/folders/pd/3vnhbdwj3wx1nm58z5lnyyqm0000gn/T/toree_add_deps8827194317915505009/https/repo1.maven.org/maven2/javax/xml/bind/jaxb-api/2.2.7/jaxb-api-2.2.7.pom\n",
      "=> https://repo1.maven.org/maven2/javax/xml/bind/jaxb-api/2.2.7/jaxb-api-2.2.7.pom.sha1: Found at /var/folders/pd/3vnhbdwj3wx1nm58z5lnyyqm0000gn/T/toree_add_deps8827194317915505009/https/repo1.maven.org/maven2/javax/xml/bind/jaxb-api/2.2.7/jaxb-api-2.2.7.pom.sha1\n",
      "=> https://repo1.maven.org/maven2/joda-time/joda-time/2.4/joda-time-2.4.pom: Found at /var/folders/pd/3vnhbdwj3wx1nm58z5lnyyqm0000gn/T/toree_add_deps8827194317915505009/https/repo1.maven.org/maven2/joda-time/joda-time/2.4/joda-time-2.4.pom\n",
      "=> https://repo1.maven.org/maven2/net/java/jvnet-parent/1/jvnet-parent-1.pom: Found at /var/folders/pd/3vnhbdwj3wx1nm58z5lnyyqm0000gn/T/toree_add_deps8827194317915505009/https/repo1.maven.org/maven2/net/java/jvnet-parent/1/jvnet-parent-1.pom\n",
      "=> https://repo1.maven.org/maven2/net/java/jvnet-parent/1/jvnet-parent-1.pom: Found at /var/folders/pd/3vnhbdwj3wx1nm58z5lnyyqm0000gn/T/toree_add_deps8827194317915505009/https/repo1.maven.org/maven2/net/java/jvnet-parent/1/jvnet-parent-1.pom\n",
      "=> https://repo1.maven.org/maven2/net/java/jvnet-parent/1/jvnet-parent-1.pom.sha1: Found at /var/folders/pd/3vnhbdwj3wx1nm58z5lnyyqm0000gn/T/toree_add_deps8827194317915505009/https/repo1.maven.org/maven2/net/java/jvnet-parent/1/jvnet-parent-1.pom.sha1\n",
      "=> https://repo1.maven.org/maven2/net/java/jvnet-parent/1/jvnet-parent-1.pom.sha1: Found at /var/folders/pd/3vnhbdwj3wx1nm58z5lnyyqm0000gn/T/toree_add_deps8827194317915505009/https/repo1.maven.org/maven2/net/java/jvnet-parent/1/jvnet-parent-1.pom.sha1\n",
      "=> https://repo1.maven.org/maven2/javax/xml/bind/jaxb-api/2.2.7/jaxb-api-2.2.7.jar: Found at /var/folders/pd/3vnhbdwj3wx1nm58z5lnyyqm0000gn/T/toree_add_deps8827194317915505009/https/repo1.maven.org/maven2/javax/xml/bind/jaxb-api/2.2.7/jaxb-api-2.2.7.jar\n",
      "=> https://repo1.maven.org/maven2/javax/xml/bind/jaxb-api/2.2.7/jaxb-api-2.2.7.jar: Found at /var/folders/pd/3vnhbdwj3wx1nm58z5lnyyqm0000gn/T/toree_add_deps8827194317915505009/https/repo1.maven.org/maven2/javax/xml/bind/jaxb-api/2.2.7/jaxb-api-2.2.7.jar\n",
      "=> https://repo1.maven.org/maven2/de/jollyday/jollyday/0.4.9/jollyday-0.4.9.jar: Found at /var/folders/pd/3vnhbdwj3wx1nm58z5lnyyqm0000gn/T/toree_add_deps8827194317915505009/https/repo1.maven.org/maven2/de/jollyday/jollyday/0.4.9/jollyday-0.4.9.jar\n",
      "=> https://repo1.maven.org/maven2/joda-time/joda-time/2.4/joda-time-2.4.jar: Found at /var/folders/pd/3vnhbdwj3wx1nm58z5lnyyqm0000gn/T/toree_add_deps8827194317915505009/https/repo1.maven.org/maven2/joda-time/joda-time/2.4/joda-time-2.4.jar\n",
      "=> https://repo1.maven.org/maven2/de/jollyday/jollyday/0.4.9/jollyday-0.4.9.jar: Found at /var/folders/pd/3vnhbdwj3wx1nm58z5lnyyqm0000gn/T/toree_add_deps8827194317915505009/https/repo1.maven.org/maven2/de/jollyday/jollyday/0.4.9/jollyday-0.4.9.jar\n",
      "=> https://repo1.maven.org/maven2/javax/xml/bind/jaxb-api/2.2.7/jaxb-api-2.2.7.jar.sha1: Found at /var/folders/pd/3vnhbdwj3wx1nm58z5lnyyqm0000gn/T/toree_add_deps8827194317915505009/https/repo1.maven.org/maven2/javax/xml/bind/jaxb-api/2.2.7/jaxb-api-2.2.7.jar.sha1\n",
      "=> https://repo1.maven.org/maven2/joda-time/joda-time/2.4/joda-time-2.4.jar: Found at /var/folders/pd/3vnhbdwj3wx1nm58z5lnyyqm0000gn/T/toree_add_deps8827194317915505009/https/repo1.maven.org/maven2/joda-time/joda-time/2.4/joda-time-2.4.jar\n",
      "=> https://repo1.maven.org/maven2/de/jollyday/jollyday/0.4.9/jollyday-0.4.9.jar.sha1: Found at /var/folders/pd/3vnhbdwj3wx1nm58z5lnyyqm0000gn/T/toree_add_deps8827194317915505009/https/repo1.maven.org/maven2/de/jollyday/jollyday/0.4.9/jollyday-0.4.9.jar.sha1\n",
      "=> https://repo1.maven.org/maven2/javax/xml/bind/jaxb-api/2.2.7/jaxb-api-2.2.7.jar.sha1: Found at /var/folders/pd/3vnhbdwj3wx1nm58z5lnyyqm0000gn/T/toree_add_deps8827194317915505009/https/repo1.maven.org/maven2/javax/xml/bind/jaxb-api/2.2.7/jaxb-api-2.2.7.jar.sha1\n",
      "=> https://repo1.maven.org/maven2/joda-time/joda-time/2.4/joda-time-2.4.jar.sha1: Found at /var/folders/pd/3vnhbdwj3wx1nm58z5lnyyqm0000gn/T/toree_add_deps8827194317915505009/https/repo1.maven.org/maven2/joda-time/joda-time/2.4/joda-time-2.4.jar.sha1\n",
      "=> https://repo1.maven.org/maven2/de/jollyday/jollyday/0.4.9/jollyday-0.4.9.jar.sha1: Found at /var/folders/pd/3vnhbdwj3wx1nm58z5lnyyqm0000gn/T/toree_add_deps8827194317915505009/https/repo1.maven.org/maven2/de/jollyday/jollyday/0.4.9/jollyday-0.4.9.jar.sha1\n",
      "=> https://repo1.maven.org/maven2/joda-time/joda-time/2.4/joda-time-2.4.jar.sha1: Found at /var/folders/pd/3vnhbdwj3wx1nm58z5lnyyqm0000gn/T/toree_add_deps8827194317915505009/https/repo1.maven.org/maven2/joda-time/joda-time/2.4/joda-time-2.4.jar.sha1\n",
      "-> New file at /var/folders/pd/3vnhbdwj3wx1nm58z5lnyyqm0000gn/T/toree_add_deps8827194317915505009/https/repo1.maven.org/maven2/javax/xml/bind/jaxb-api/2.2.7/jaxb-api-2.2.7.jar\n",
      "-> New file at /var/folders/pd/3vnhbdwj3wx1nm58z5lnyyqm0000gn/T/toree_add_deps8827194317915505009/https/repo1.maven.org/maven2/de/jollyday/jollyday/0.4.9/jollyday-0.4.9.jar\n",
      "-> New file at /var/folders/pd/3vnhbdwj3wx1nm58z5lnyyqm0000gn/T/toree_add_deps8827194317915505009/https/repo1.maven.org/maven2/joda-time/joda-time/2.4/joda-time-2.4.jar\n"
     ]
    }
   ],
   "source": [
    "%AddDeps de.jollyday jollyday 0.4.9 --transitive --verbose\n",
    "import de.jollyday.{HolidayCalendar, HolidayManager}\n",
    "import org.joda.time.format.ISODateTimeFormat\n",
    "import org.joda.time.{DateTime, DateTimeConstants, DateTimeZone, Days}"
   ]
  },
  {
   "cell_type": "code",
   "execution_count": null,
   "metadata": {
    "collapsed": true
   },
   "outputs": [],
   "source": []
  },
  {
   "cell_type": "code",
   "execution_count": null,
   "metadata": {
    "collapsed": true
   },
   "outputs": [],
   "source": []
  },
  {
   "cell_type": "code",
   "execution_count": 2,
   "metadata": {
    "collapsed": false
   },
   "outputs": [
    {
     "name": "stdout",
     "output_type": "stream",
     "text": [
      "Marking de.jollyday:jollyday:0.4.9 for download\n",
      "Preparing to fetch from:\n",
      "-> file:/var/folders/pd/3vnhbdwj3wx1nm58z5lnyyqm0000gn/T/toree_add_deps8827194317915505009/\n",
      "-> https://repo1.maven.org/maven2\n",
      "=> 1 (): Downloading https://repo1.maven.org/maven2/de/jollyday/jollyday/0.4.9/jollyday-0.4.9.pom.sha1\n",
      "=> 2 (): Downloading https://repo1.maven.org/maven2/de/jollyday/jollyday/0.4.9/jollyday-0.4.9.pom\n",
      "=> 1 (jollyday-0.4.9.pom.sha1): Finished downloading\n",
      "=> 2 (jollyday-0.4.9.pom): Finished downloading\n",
      "=> 3 (): Downloading https://repo1.maven.org/maven2/joda-time/joda-time/2.4/joda-time-2.4.pom.sha1\n",
      "=> 4 (): Downloading https://repo1.maven.org/maven2/joda-time/joda-time/2.4/joda-time-2.4.pom\n",
      "=> 5 (): Downloading https://repo1.maven.org/maven2/javax/xml/bind/jaxb-api/2.2.7/jaxb-api-2.2.7.pom.sha1\n",
      "=> 6 (): Downloading https://repo1.maven.org/maven2/javax/xml/bind/jaxb-api/2.2.7/jaxb-api-2.2.7.pom\n",
      "=> 3 (joda-time-2.4.pom.sha1): Finished downloading\n",
      "=> 6 (jaxb-api-2.2.7.pom): Finished downloading\n",
      "=> 4 (joda-time-2.4.pom): Finished downloading\n",
      "=> 5 (jaxb-api-2.2.7.pom.sha1): Finished downloading\n",
      "=> 7 (): Downloading https://repo1.maven.org/maven2/net/java/jvnet-parent/1/jvnet-parent-1.pom\n",
      "=> 8 (): Downloading https://repo1.maven.org/maven2/net/java/jvnet-parent/1/jvnet-parent-1.pom.sha1\n",
      "=> 8 (jvnet-parent-1.pom.sha1): Finished downloading\n",
      "=> 7 (jvnet-parent-1.pom): Finished downloading\n",
      "=> 1 (): Downloading https://repo1.maven.org/maven2/joda-time/joda-time/2.4/joda-time-2.4.jar\n",
      "=> 1 (): Downloading https://repo1.maven.org/maven2/de/jollyday/jollyday/0.4.9/jollyday-0.4.9.jar\n",
      "=> 1 (): Downloading https://repo1.maven.org/maven2/javax/xml/bind/jaxb-api/2.2.7/jaxb-api-2.2.7.jar\n",
      "=> 2 (): Downloading https://repo1.maven.org/maven2/de/jollyday/jollyday/0.4.9/jollyday-0.4.9.jar.sha1\n",
      "=> 2 (): Downloading https://repo1.maven.org/maven2/javax/xml/bind/jaxb-api/2.2.7/jaxb-api-2.2.7.jar.sha1\n",
      "=> 2 (): Downloading https://repo1.maven.org/maven2/joda-time/joda-time/2.4/joda-time-2.4.jar.sha1\n",
      "=> 2 (jollyday-0.4.9.jar.sha1): Finished downloading\n",
      "=> 2 (jaxb-api-2.2.7.jar.sha1): Finished downloading\n",
      "=> 1 (jaxb-api-2.2.7.jar): Finished downloading\n",
      "=> 2 (joda-time-2.4.jar.sha1): Finished downloading\n",
      "=> 1 (joda-time-2.4.jar): Finished downloading\n",
      "=> 1 (jollyday-0.4.9.jar): Finished downloading\n",
      "-> New file at /var/folders/pd/3vnhbdwj3wx1nm58z5lnyyqm0000gn/T/toree_add_deps8827194317915505009/https/repo1.maven.org/maven2/javax/xml/bind/jaxb-api/2.2.7/jaxb-api-2.2.7.jar\n",
      "-> New file at /var/folders/pd/3vnhbdwj3wx1nm58z5lnyyqm0000gn/T/toree_add_deps8827194317915505009/https/repo1.maven.org/maven2/joda-time/joda-time/2.4/joda-time-2.4.jar\n",
      "-> New file at /var/folders/pd/3vnhbdwj3wx1nm58z5lnyyqm0000gn/T/toree_add_deps8827194317915505009/https/repo1.maven.org/maven2/de/jollyday/jollyday/0.4.9/jollyday-0.4.9.jar\n"
     ]
    }
   ],
   "source": []
  },
  {
   "cell_type": "code",
   "execution_count": 3,
   "metadata": {
    "collapsed": true
   },
   "outputs": [],
   "source": []
  },
  {
   "cell_type": "code",
   "execution_count": null,
   "metadata": {
    "collapsed": true
   },
   "outputs": [],
   "source": []
  }
 ],
 "metadata": {
  "kernelspec": {
   "display_name": "Apache Toree - Scala",
   "language": "scala",
   "name": "apache_toree_scala"
  },
  "language_info": {
   "name": "scala",
   "version": "2.10.4"
  }
 },
 "nbformat": 4,
 "nbformat_minor": 1
}
